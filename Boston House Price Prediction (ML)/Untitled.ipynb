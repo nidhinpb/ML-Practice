{
 "cells": [
  {
   "cell_type": "code",
   "execution_count": 4,
   "metadata": {},
   "outputs": [
    {
     "data": {
      "text/html": [
       "<div>\n",
       "<style scoped>\n",
       "    .dataframe tbody tr th:only-of-type {\n",
       "        vertical-align: middle;\n",
       "    }\n",
       "\n",
       "    .dataframe tbody tr th {\n",
       "        vertical-align: top;\n",
       "    }\n",
       "\n",
       "    .dataframe thead th {\n",
       "        text-align: right;\n",
       "    }\n",
       "</style>\n",
       "<table border=\"1\" class=\"dataframe\">\n",
       "  <thead>\n",
       "    <tr style=\"text-align: right;\">\n",
       "      <th></th>\n",
       "      <th>A</th>\n",
       "      <th>B</th>\n",
       "      <th>C</th>\n",
       "    </tr>\n",
       "  </thead>\n",
       "  <tbody>\n",
       "    <tr>\n",
       "      <th>2017-05-05</th>\n",
       "      <td>0.833098</td>\n",
       "      <td>-0.339953</td>\n",
       "      <td>0.780228</td>\n",
       "    </tr>\n",
       "    <tr>\n",
       "      <th>2017-05-06</th>\n",
       "      <td>1.472005</td>\n",
       "      <td>-0.385319</td>\n",
       "      <td>-0.256503</td>\n",
       "    </tr>\n",
       "    <tr>\n",
       "      <th>2017-05-07</th>\n",
       "      <td>-0.652569</td>\n",
       "      <td>1.348300</td>\n",
       "      <td>-0.040638</td>\n",
       "    </tr>\n",
       "    <tr>\n",
       "      <th>2017-05-08</th>\n",
       "      <td>-0.586638</td>\n",
       "      <td>0.121370</td>\n",
       "      <td>-0.275240</td>\n",
       "    </tr>\n",
       "    <tr>\n",
       "      <th>2017-05-09</th>\n",
       "      <td>-0.385046</td>\n",
       "      <td>-0.282213</td>\n",
       "      <td>0.899055</td>\n",
       "    </tr>\n",
       "    <tr>\n",
       "      <th>2017-05-10</th>\n",
       "      <td>1.137672</td>\n",
       "      <td>1.650891</td>\n",
       "      <td>-0.909103</td>\n",
       "    </tr>\n",
       "    <tr>\n",
       "      <th>2017-05-11</th>\n",
       "      <td>1.178133</td>\n",
       "      <td>-0.298093</td>\n",
       "      <td>-0.056527</td>\n",
       "    </tr>\n",
       "    <tr>\n",
       "      <th>2017-05-12</th>\n",
       "      <td>1.910696</td>\n",
       "      <td>0.891100</td>\n",
       "      <td>-0.869593</td>\n",
       "    </tr>\n",
       "  </tbody>\n",
       "</table>\n",
       "</div>"
      ],
      "text/plain": [
       "                   A         B         C\n",
       "2017-05-05  0.833098 -0.339953  0.780228\n",
       "2017-05-06  1.472005 -0.385319 -0.256503\n",
       "2017-05-07 -0.652569  1.348300 -0.040638\n",
       "2017-05-08 -0.586638  0.121370 -0.275240\n",
       "2017-05-09 -0.385046 -0.282213  0.899055\n",
       "2017-05-10  1.137672  1.650891 -0.909103\n",
       "2017-05-11  1.178133 -0.298093 -0.056527\n",
       "2017-05-12  1.910696  0.891100 -0.869593"
      ]
     },
     "execution_count": 4,
     "metadata": {},
     "output_type": "execute_result"
    }
   ],
   "source": [
    "import numpy as np\n",
    "import pandas as pd\n",
    "dates = pd.date_range('20170505', periods = 8)\n",
    "df = pd.DataFrame(np.random.randn(8,3), index=dates, columns=list('ABC'))\n",
    "df"
   ]
  },
  {
   "cell_type": "code",
   "execution_count": 12,
   "metadata": {},
   "outputs": [
    {
     "data": {
      "text/plain": [
       "pandas.core.frame.DataFrame"
      ]
     },
     "execution_count": 12,
     "metadata": {},
     "output_type": "execute_result"
    }
   ],
   "source": [
    "type(df[['A']])"
   ]
  },
  {
   "cell_type": "code",
   "execution_count": null,
   "metadata": {},
   "outputs": [],
   "source": []
  }
 ],
 "metadata": {
  "kernelspec": {
   "display_name": "Python 3",
   "language": "python",
   "name": "python3"
  },
  "language_info": {
   "codemirror_mode": {
    "name": "ipython",
    "version": 3
   },
   "file_extension": ".py",
   "mimetype": "text/x-python",
   "name": "python",
   "nbconvert_exporter": "python",
   "pygments_lexer": "ipython3",
   "version": "3.8.3"
  }
 },
 "nbformat": 4,
 "nbformat_minor": 4
}
